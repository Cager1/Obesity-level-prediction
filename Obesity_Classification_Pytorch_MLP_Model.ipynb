{
 "metadata": {
  "colab": {
   "provenance": [],
   "name": "Obesity Classification Pytorch MLP Model"
  },
  "kernelspec": {
   "name": "python3",
   "language": "python",
   "display_name": "Python 3 (ipykernel)"
  },
  "language_info": {
   "name": "python"
  },
  "kaggle": {
   "accelerator": "none",
   "dataSources": [
    {
     "sourceId": 8055891,
     "sourceType": "datasetVersion",
     "datasetId": 4751341
    }
   ],
   "dockerImageVersionId": 30698,
   "isInternetEnabled": false,
   "language": "python",
   "sourceType": "notebook",
   "isGpuEnabled": false
  }
 },
 "nbformat_minor": 0,
 "nbformat": 4,
 "cells": [
  {
   "cell_type": "markdown",
   "source": [
    "# <a id='1'> Table of Contents </a>\n",
    "\n",
    "1. [Importing Libraries](#2)\n",
    "2. [Load the dataset](#3)\n",
    "3. [EDA (Exploratory data analysis)](#4)\n",
    "4. [Data Visualization](#5)\n",
    "5. [Data Preprocessing](#6)\n",
    "6. [MLP Model](#7)\n",
    "7. [Evaluation](#8)"
   ],
   "metadata": {
    "id": "-cbzLWkhL_NN"
   }
  },
  {
   "cell_type": "markdown",
   "source": [
    "# <a id='2' href=#2> Importing Libraries </a>"
   ],
   "metadata": {
    "id": "0XAYAE1xMC09"
   }
  },
  {
   "cell_type": "code",
   "source": [
    "import warnings\n",
    "warnings.filterwarnings(\"ignore\")\n",
    "import pandas as pd\n",
    "%matplotlib inline\n",
    "from sklearn.model_selection import train_test_split\n"
   ],
   "metadata": {
    "id": "wGL4ET6t4loR",
    "ExecuteTime": {
     "end_time": "2024-06-12T09:21:07.010818Z",
     "start_time": "2024-06-12T09:21:07.001054Z"
    }
   },
   "execution_count": 69,
   "outputs": []
  },
  {
   "cell_type": "markdown",
   "source": [
    "# <a id='2' href=#2> Loading datasets </a>"
   ],
   "metadata": {
    "collapsed": false
   }
  },
  {
   "cell_type": "markdown",
   "source": [
    "# Attributes\n",
    "\n",
    "Gender: Feature, Categorical, \"Gender\"\n",
    "\n",
    "Age : Feature, Continuous, \"Age\"\n",
    "\n",
    "Height: Feature, Continuous\n",
    "\n",
    "Weight: Feature Continuous\n",
    "\n",
    "family_history_with_overweight: Feature, Binary, \" Has a family member suffered or suffers from overweight? \"\n",
    "\n",
    "FAVC : Feature, Binary, \" Do you eat high caloric food frequently? \"\n",
    "\n",
    "FCVC : Feature, Integer, \" Do you usually eat vegetables in your meals? \"\n",
    "\n",
    "NCP : Feature, Continuous, \" How many main meals do you have daily? \"\n",
    "\n",
    "CAEC : Feature, Categorical, \" Do you eat any food between meals? \"\n",
    "\n",
    "SMOKE : Feature, Binary, \" Do you smoke? \"\n",
    "\n",
    "CH2O: Feature, Continuous, \" How much water do you drink daily? \"\n",
    "\n",
    "SCC: Feature, Binary, \" Do you monitor the calories you eat daily? \"\n",
    "\n",
    "FAF: Feature, Continuous, \" How often do you have physical activity? \"\n",
    "\n",
    "TUE : Feature, Integer, \" How much time do you use technological devices such as cell phone, videogames, television, computer and others? \"\n",
    "\n",
    "CALC : Feature, Categorical, \" How often do you drink alcohol? \"\n",
    "\n",
    "MTRANS : Feature, Categorical, \" Which transportation do you usually use? \"\n",
    "\n",
    "NObeyesdad : Target, Categorical, \"Obesity level\""
   ],
   "metadata": {
    "collapsed": false
   }
  },
  {
   "cell_type": "code",
   "source": [
    "Obesity_Data = pd.read_csv(\"ObesityDataSet_raw_and_data_sinthetic.csv\")\n",
    "Obesity_Data"
   ],
   "metadata": {
    "id": "BlSuGb214yuo",
    "ExecuteTime": {
     "end_time": "2024-06-12T09:21:07.042056Z",
     "start_time": "2024-06-12T09:21:07.023327Z"
    }
   },
   "execution_count": 70,
   "outputs": [
    {
     "data": {
      "text/plain": "            Age  Gender    Height      Weight        CALC FAVC  FCVC  NCP  \\\n0     21.000000  Female  1.620000   64.000000          no   no   2.0  3.0   \n1     21.000000  Female  1.520000   56.000000   Sometimes   no   3.0  3.0   \n2     23.000000    Male  1.800000   77.000000  Frequently   no   2.0  3.0   \n3     27.000000    Male  1.800000   87.000000  Frequently   no   3.0  3.0   \n4     22.000000    Male  1.780000   89.800000   Sometimes   no   2.0  1.0   \n...         ...     ...       ...         ...         ...  ...   ...  ...   \n2106  20.976842  Female  1.710730  131.408528   Sometimes  yes   3.0  3.0   \n2107  21.982942  Female  1.748584  133.742943   Sometimes  yes   3.0  3.0   \n2108  22.524036  Female  1.752206  133.689352   Sometimes  yes   3.0  3.0   \n2109  24.361936  Female  1.739450  133.346641   Sometimes  yes   3.0  3.0   \n2110  23.664709  Female  1.738836  133.472641   Sometimes  yes   3.0  3.0   \n\n      SCC SMOKE      CH2O family_history_with_overweight       FAF       TUE  \\\n0      no    no  2.000000                            yes  0.000000  1.000000   \n1     yes   yes  3.000000                            yes  3.000000  0.000000   \n2      no    no  2.000000                            yes  2.000000  1.000000   \n3      no    no  2.000000                             no  2.000000  0.000000   \n4      no    no  2.000000                             no  0.000000  0.000000   \n...   ...   ...       ...                            ...       ...       ...   \n2106   no    no  1.728139                            yes  1.676269  0.906247   \n2107   no    no  2.005130                            yes  1.341390  0.599270   \n2108   no    no  2.054193                            yes  1.414209  0.646288   \n2109   no    no  2.852339                            yes  1.139107  0.586035   \n2110   no    no  2.863513                            yes  1.026452  0.714137   \n\n           CAEC                 MTRANS           NObeyesdad  \n0     Sometimes  Public_Transportation        Normal_Weight  \n1     Sometimes  Public_Transportation        Normal_Weight  \n2     Sometimes  Public_Transportation        Normal_Weight  \n3     Sometimes                Walking   Overweight_Level_I  \n4     Sometimes  Public_Transportation  Overweight_Level_II  \n...         ...                    ...                  ...  \n2106  Sometimes  Public_Transportation     Obesity_Type_III  \n2107  Sometimes  Public_Transportation     Obesity_Type_III  \n2108  Sometimes  Public_Transportation     Obesity_Type_III  \n2109  Sometimes  Public_Transportation     Obesity_Type_III  \n2110  Sometimes  Public_Transportation     Obesity_Type_III  \n\n[2111 rows x 17 columns]",
      "text/html": "<div>\n<style scoped>\n    .dataframe tbody tr th:only-of-type {\n        vertical-align: middle;\n    }\n\n    .dataframe tbody tr th {\n        vertical-align: top;\n    }\n\n    .dataframe thead th {\n        text-align: right;\n    }\n</style>\n<table border=\"1\" class=\"dataframe\">\n  <thead>\n    <tr style=\"text-align: right;\">\n      <th></th>\n      <th>Age</th>\n      <th>Gender</th>\n      <th>Height</th>\n      <th>Weight</th>\n      <th>CALC</th>\n      <th>FAVC</th>\n      <th>FCVC</th>\n      <th>NCP</th>\n      <th>SCC</th>\n      <th>SMOKE</th>\n      <th>CH2O</th>\n      <th>family_history_with_overweight</th>\n      <th>FAF</th>\n      <th>TUE</th>\n      <th>CAEC</th>\n      <th>MTRANS</th>\n      <th>NObeyesdad</th>\n    </tr>\n  </thead>\n  <tbody>\n    <tr>\n      <th>0</th>\n      <td>21.000000</td>\n      <td>Female</td>\n      <td>1.620000</td>\n      <td>64.000000</td>\n      <td>no</td>\n      <td>no</td>\n      <td>2.0</td>\n      <td>3.0</td>\n      <td>no</td>\n      <td>no</td>\n      <td>2.000000</td>\n      <td>yes</td>\n      <td>0.000000</td>\n      <td>1.000000</td>\n      <td>Sometimes</td>\n      <td>Public_Transportation</td>\n      <td>Normal_Weight</td>\n    </tr>\n    <tr>\n      <th>1</th>\n      <td>21.000000</td>\n      <td>Female</td>\n      <td>1.520000</td>\n      <td>56.000000</td>\n      <td>Sometimes</td>\n      <td>no</td>\n      <td>3.0</td>\n      <td>3.0</td>\n      <td>yes</td>\n      <td>yes</td>\n      <td>3.000000</td>\n      <td>yes</td>\n      <td>3.000000</td>\n      <td>0.000000</td>\n      <td>Sometimes</td>\n      <td>Public_Transportation</td>\n      <td>Normal_Weight</td>\n    </tr>\n    <tr>\n      <th>2</th>\n      <td>23.000000</td>\n      <td>Male</td>\n      <td>1.800000</td>\n      <td>77.000000</td>\n      <td>Frequently</td>\n      <td>no</td>\n      <td>2.0</td>\n      <td>3.0</td>\n      <td>no</td>\n      <td>no</td>\n      <td>2.000000</td>\n      <td>yes</td>\n      <td>2.000000</td>\n      <td>1.000000</td>\n      <td>Sometimes</td>\n      <td>Public_Transportation</td>\n      <td>Normal_Weight</td>\n    </tr>\n    <tr>\n      <th>3</th>\n      <td>27.000000</td>\n      <td>Male</td>\n      <td>1.800000</td>\n      <td>87.000000</td>\n      <td>Frequently</td>\n      <td>no</td>\n      <td>3.0</td>\n      <td>3.0</td>\n      <td>no</td>\n      <td>no</td>\n      <td>2.000000</td>\n      <td>no</td>\n      <td>2.000000</td>\n      <td>0.000000</td>\n      <td>Sometimes</td>\n      <td>Walking</td>\n      <td>Overweight_Level_I</td>\n    </tr>\n    <tr>\n      <th>4</th>\n      <td>22.000000</td>\n      <td>Male</td>\n      <td>1.780000</td>\n      <td>89.800000</td>\n      <td>Sometimes</td>\n      <td>no</td>\n      <td>2.0</td>\n      <td>1.0</td>\n      <td>no</td>\n      <td>no</td>\n      <td>2.000000</td>\n      <td>no</td>\n      <td>0.000000</td>\n      <td>0.000000</td>\n      <td>Sometimes</td>\n      <td>Public_Transportation</td>\n      <td>Overweight_Level_II</td>\n    </tr>\n    <tr>\n      <th>...</th>\n      <td>...</td>\n      <td>...</td>\n      <td>...</td>\n      <td>...</td>\n      <td>...</td>\n      <td>...</td>\n      <td>...</td>\n      <td>...</td>\n      <td>...</td>\n      <td>...</td>\n      <td>...</td>\n      <td>...</td>\n      <td>...</td>\n      <td>...</td>\n      <td>...</td>\n      <td>...</td>\n      <td>...</td>\n    </tr>\n    <tr>\n      <th>2106</th>\n      <td>20.976842</td>\n      <td>Female</td>\n      <td>1.710730</td>\n      <td>131.408528</td>\n      <td>Sometimes</td>\n      <td>yes</td>\n      <td>3.0</td>\n      <td>3.0</td>\n      <td>no</td>\n      <td>no</td>\n      <td>1.728139</td>\n      <td>yes</td>\n      <td>1.676269</td>\n      <td>0.906247</td>\n      <td>Sometimes</td>\n      <td>Public_Transportation</td>\n      <td>Obesity_Type_III</td>\n    </tr>\n    <tr>\n      <th>2107</th>\n      <td>21.982942</td>\n      <td>Female</td>\n      <td>1.748584</td>\n      <td>133.742943</td>\n      <td>Sometimes</td>\n      <td>yes</td>\n      <td>3.0</td>\n      <td>3.0</td>\n      <td>no</td>\n      <td>no</td>\n      <td>2.005130</td>\n      <td>yes</td>\n      <td>1.341390</td>\n      <td>0.599270</td>\n      <td>Sometimes</td>\n      <td>Public_Transportation</td>\n      <td>Obesity_Type_III</td>\n    </tr>\n    <tr>\n      <th>2108</th>\n      <td>22.524036</td>\n      <td>Female</td>\n      <td>1.752206</td>\n      <td>133.689352</td>\n      <td>Sometimes</td>\n      <td>yes</td>\n      <td>3.0</td>\n      <td>3.0</td>\n      <td>no</td>\n      <td>no</td>\n      <td>2.054193</td>\n      <td>yes</td>\n      <td>1.414209</td>\n      <td>0.646288</td>\n      <td>Sometimes</td>\n      <td>Public_Transportation</td>\n      <td>Obesity_Type_III</td>\n    </tr>\n    <tr>\n      <th>2109</th>\n      <td>24.361936</td>\n      <td>Female</td>\n      <td>1.739450</td>\n      <td>133.346641</td>\n      <td>Sometimes</td>\n      <td>yes</td>\n      <td>3.0</td>\n      <td>3.0</td>\n      <td>no</td>\n      <td>no</td>\n      <td>2.852339</td>\n      <td>yes</td>\n      <td>1.139107</td>\n      <td>0.586035</td>\n      <td>Sometimes</td>\n      <td>Public_Transportation</td>\n      <td>Obesity_Type_III</td>\n    </tr>\n    <tr>\n      <th>2110</th>\n      <td>23.664709</td>\n      <td>Female</td>\n      <td>1.738836</td>\n      <td>133.472641</td>\n      <td>Sometimes</td>\n      <td>yes</td>\n      <td>3.0</td>\n      <td>3.0</td>\n      <td>no</td>\n      <td>no</td>\n      <td>2.863513</td>\n      <td>yes</td>\n      <td>1.026452</td>\n      <td>0.714137</td>\n      <td>Sometimes</td>\n      <td>Public_Transportation</td>\n      <td>Obesity_Type_III</td>\n    </tr>\n  </tbody>\n</table>\n<p>2111 rows × 17 columns</p>\n</div>"
     },
     "execution_count": 70,
     "metadata": {},
     "output_type": "execute_result"
    }
   ]
  },
  {
   "cell_type": "code",
   "source": [
    "Obesity_Data.shape"
   ],
   "metadata": {
    "id": "V7ywH8VOClMC",
    "ExecuteTime": {
     "end_time": "2024-06-12T09:21:07.066183Z",
     "start_time": "2024-06-12T09:21:07.062020Z"
    }
   },
   "execution_count": 71,
   "outputs": [
    {
     "data": {
      "text/plain": "(2111, 17)"
     },
     "execution_count": 71,
     "metadata": {},
     "output_type": "execute_result"
    }
   ]
  },
  {
   "cell_type": "code",
   "source": [
    "Obesity_Data.info()"
   ],
   "metadata": {
    "id": "iGOT6lhwMUlt",
    "ExecuteTime": {
     "end_time": "2024-06-12T09:21:07.081875Z",
     "start_time": "2024-06-12T09:21:07.074772Z"
    }
   },
   "execution_count": 72,
   "outputs": [
    {
     "name": "stdout",
     "output_type": "stream",
     "text": [
      "<class 'pandas.core.frame.DataFrame'>\n",
      "RangeIndex: 2111 entries, 0 to 2110\n",
      "Data columns (total 17 columns):\n",
      " #   Column                          Non-Null Count  Dtype  \n",
      "---  ------                          --------------  -----  \n",
      " 0   Age                             2111 non-null   float64\n",
      " 1   Gender                          2111 non-null   object \n",
      " 2   Height                          2111 non-null   float64\n",
      " 3   Weight                          2111 non-null   float64\n",
      " 4   CALC                            2111 non-null   object \n",
      " 5   FAVC                            2111 non-null   object \n",
      " 6   FCVC                            2111 non-null   float64\n",
      " 7   NCP                             2111 non-null   float64\n",
      " 8   SCC                             2111 non-null   object \n",
      " 9   SMOKE                           2111 non-null   object \n",
      " 10  CH2O                            2111 non-null   float64\n",
      " 11  family_history_with_overweight  2111 non-null   object \n",
      " 12  FAF                             2111 non-null   float64\n",
      " 13  TUE                             2111 non-null   float64\n",
      " 14  CAEC                            2111 non-null   object \n",
      " 15  MTRANS                          2111 non-null   object \n",
      " 16  NObeyesdad                      2111 non-null   object \n",
      "dtypes: float64(8), object(9)\n",
      "memory usage: 280.5+ KB\n"
     ]
    }
   ]
  },
  {
   "cell_type": "code",
   "source": [
    "# Check Missing values\n",
    "Obesity_Data.isna().sum()"
   ],
   "metadata": {
    "id": "FJNc1BCMMZm1",
    "ExecuteTime": {
     "end_time": "2024-06-12T09:21:07.087824Z",
     "start_time": "2024-06-12T09:21:07.082954Z"
    }
   },
   "execution_count": 73,
   "outputs": [
    {
     "data": {
      "text/plain": "Age                               0\nGender                            0\nHeight                            0\nWeight                            0\nCALC                              0\nFAVC                              0\nFCVC                              0\nNCP                               0\nSCC                               0\nSMOKE                             0\nCH2O                              0\nfamily_history_with_overweight    0\nFAF                               0\nTUE                               0\nCAEC                              0\nMTRANS                            0\nNObeyesdad                        0\ndtype: int64"
     },
     "execution_count": 73,
     "metadata": {},
     "output_type": "execute_result"
    }
   ]
  },
  {
   "cell_type": "code",
   "source": [
    "# Check Duplicates\n",
    "Obesity_Data.duplicated().sum()"
   ],
   "metadata": {
    "id": "Jr8cI26NMcpd",
    "ExecuteTime": {
     "end_time": "2024-06-12T09:21:07.095616Z",
     "start_time": "2024-06-12T09:21:07.091034Z"
    }
   },
   "execution_count": 74,
   "outputs": [
    {
     "data": {
      "text/plain": "24"
     },
     "execution_count": 74,
     "metadata": {},
     "output_type": "execute_result"
    }
   ]
  },
  {
   "cell_type": "code",
   "source": [
    "# Check the number of unique values of each column\n",
    "Obesity_Data.nunique()"
   ],
   "metadata": {
    "id": "6B9KjYIkMgh1",
    "ExecuteTime": {
     "end_time": "2024-06-12T09:21:07.106183Z",
     "start_time": "2024-06-12T09:21:07.101193Z"
    }
   },
   "execution_count": 75,
   "outputs": [
    {
     "data": {
      "text/plain": "Age                               1402\nGender                               2\nHeight                            1574\nWeight                            1525\nCALC                                 4\nFAVC                                 2\nFCVC                               810\nNCP                                635\nSCC                                  2\nSMOKE                                2\nCH2O                              1268\nfamily_history_with_overweight       2\nFAF                               1190\nTUE                               1129\nCAEC                                 4\nMTRANS                               5\nNObeyesdad                           7\ndtype: int64"
     },
     "execution_count": 75,
     "metadata": {},
     "output_type": "execute_result"
    }
   ]
  },
  {
   "cell_type": "code",
   "source": [
    "# Check statistics of data set\n",
    "Obesity_Data.describe()"
   ],
   "metadata": {
    "id": "-h70-YIrMkPd",
    "ExecuteTime": {
     "end_time": "2024-06-12T09:21:07.128217Z",
     "start_time": "2024-06-12T09:21:07.115271Z"
    }
   },
   "execution_count": 76,
   "outputs": [
    {
     "data": {
      "text/plain": "               Age       Height       Weight         FCVC          NCP  \\\ncount  2111.000000  2111.000000  2111.000000  2111.000000  2111.000000   \nmean     24.312600     1.701677    86.586058     2.419043     2.685628   \nstd       6.345968     0.093305    26.191172     0.533927     0.778039   \nmin      14.000000     1.450000    39.000000     1.000000     1.000000   \n25%      19.947192     1.630000    65.473343     2.000000     2.658738   \n50%      22.777890     1.700499    83.000000     2.385502     3.000000   \n75%      26.000000     1.768464   107.430682     3.000000     3.000000   \nmax      61.000000     1.980000   173.000000     3.000000     4.000000   \n\n              CH2O          FAF          TUE  \ncount  2111.000000  2111.000000  2111.000000  \nmean      2.008011     1.010298     0.657866  \nstd       0.612953     0.850592     0.608927  \nmin       1.000000     0.000000     0.000000  \n25%       1.584812     0.124505     0.000000  \n50%       2.000000     1.000000     0.625350  \n75%       2.477420     1.666678     1.000000  \nmax       3.000000     3.000000     2.000000  ",
      "text/html": "<div>\n<style scoped>\n    .dataframe tbody tr th:only-of-type {\n        vertical-align: middle;\n    }\n\n    .dataframe tbody tr th {\n        vertical-align: top;\n    }\n\n    .dataframe thead th {\n        text-align: right;\n    }\n</style>\n<table border=\"1\" class=\"dataframe\">\n  <thead>\n    <tr style=\"text-align: right;\">\n      <th></th>\n      <th>Age</th>\n      <th>Height</th>\n      <th>Weight</th>\n      <th>FCVC</th>\n      <th>NCP</th>\n      <th>CH2O</th>\n      <th>FAF</th>\n      <th>TUE</th>\n    </tr>\n  </thead>\n  <tbody>\n    <tr>\n      <th>count</th>\n      <td>2111.000000</td>\n      <td>2111.000000</td>\n      <td>2111.000000</td>\n      <td>2111.000000</td>\n      <td>2111.000000</td>\n      <td>2111.000000</td>\n      <td>2111.000000</td>\n      <td>2111.000000</td>\n    </tr>\n    <tr>\n      <th>mean</th>\n      <td>24.312600</td>\n      <td>1.701677</td>\n      <td>86.586058</td>\n      <td>2.419043</td>\n      <td>2.685628</td>\n      <td>2.008011</td>\n      <td>1.010298</td>\n      <td>0.657866</td>\n    </tr>\n    <tr>\n      <th>std</th>\n      <td>6.345968</td>\n      <td>0.093305</td>\n      <td>26.191172</td>\n      <td>0.533927</td>\n      <td>0.778039</td>\n      <td>0.612953</td>\n      <td>0.850592</td>\n      <td>0.608927</td>\n    </tr>\n    <tr>\n      <th>min</th>\n      <td>14.000000</td>\n      <td>1.450000</td>\n      <td>39.000000</td>\n      <td>1.000000</td>\n      <td>1.000000</td>\n      <td>1.000000</td>\n      <td>0.000000</td>\n      <td>0.000000</td>\n    </tr>\n    <tr>\n      <th>25%</th>\n      <td>19.947192</td>\n      <td>1.630000</td>\n      <td>65.473343</td>\n      <td>2.000000</td>\n      <td>2.658738</td>\n      <td>1.584812</td>\n      <td>0.124505</td>\n      <td>0.000000</td>\n    </tr>\n    <tr>\n      <th>50%</th>\n      <td>22.777890</td>\n      <td>1.700499</td>\n      <td>83.000000</td>\n      <td>2.385502</td>\n      <td>3.000000</td>\n      <td>2.000000</td>\n      <td>1.000000</td>\n      <td>0.625350</td>\n    </tr>\n    <tr>\n      <th>75%</th>\n      <td>26.000000</td>\n      <td>1.768464</td>\n      <td>107.430682</td>\n      <td>3.000000</td>\n      <td>3.000000</td>\n      <td>2.477420</td>\n      <td>1.666678</td>\n      <td>1.000000</td>\n    </tr>\n    <tr>\n      <th>max</th>\n      <td>61.000000</td>\n      <td>1.980000</td>\n      <td>173.000000</td>\n      <td>3.000000</td>\n      <td>4.000000</td>\n      <td>3.000000</td>\n      <td>3.000000</td>\n      <td>2.000000</td>\n    </tr>\n  </tbody>\n</table>\n</div>"
     },
     "execution_count": 76,
     "metadata": {},
     "output_type": "execute_result"
    }
   ]
  },
  {
   "cell_type": "markdown",
   "source": [
    "# <a id='6' href=#1> Data Preprocessing </a>"
   ],
   "metadata": {
    "id": "CPRt4504M01c"
   }
  },
  {
   "cell_type": "code",
   "source": [
    "df1 = Obesity_Data.copy()"
   ],
   "metadata": {
    "id": "XPsJhr4UFj07",
    "ExecuteTime": {
     "end_time": "2024-06-12T09:21:07.147440Z",
     "start_time": "2024-06-12T09:21:07.144335Z"
    }
   },
   "execution_count": 77,
   "outputs": []
  },
  {
   "cell_type": "code",
   "source": [
    "df1.loc[df1['NObeyesdad'] == 'Normal_Weight', 'NObeyesdad'] = 2\n",
    "df1.loc[df1['NObeyesdad'] == 'Overweight_Level_I', 'NObeyesdad'] = 3\n",
    "df1.loc[df1['NObeyesdad'] == 'Overweight_Level_II', 'NObeyesdad'] = 4\n",
    "df1.loc[df1['NObeyesdad'] == 'Obesity_Type_I', 'NObeyesdad'] = 5\n",
    "df1.loc[df1['NObeyesdad'] == 'Insufficient_Weight', 'NObeyesdad'] = 6\n",
    "df1.loc[df1['NObeyesdad'] == 'Obesity_Type_II', 'NObeyesdad'] = 7\n",
    "df1.loc[df1['NObeyesdad'] == 'Obesity_Type_III', 'NObeyesdad'] = 8\n",
    "\n",
    "        ###################### data to number #################\n",
    "\n",
    "        # Gender\n",
    "\n",
    "df1.loc[df1['Gender'] == 'Female', 'Gender'] = 2\n",
    "df1.loc[df1['Gender'] == 'Male', 'Gender'] = 3\n",
    "\n",
    "        # family_history_with_overweight\n",
    "\n",
    "df1.loc[df1['family_history_with_overweight'] == 'no', 'family_history_with_overweight'] = 2\n",
    "df1.loc[df1['family_history_with_overweight'] == 'yes', 'family_history_with_overweight'] = 3\n",
    "\n",
    "        # FAVC\n",
    "\n",
    "df1.loc[df1['FAVC'] == 'no', 'FAVC'] = 2\n",
    "df1.loc[df1['FAVC'] == 'yes', 'FAVC'] = 3\n",
    "\n",
    "        # CAEC\n",
    "\n",
    "df1.loc[df1['CAEC'] == 'no', 'CAEC'] = 2\n",
    "df1.loc[df1['CAEC'] == 'Sometimes', 'CAEC'] = 3\n",
    "df1.loc[df1['CAEC'] == 'Frequently', 'CAEC'] = 4\n",
    "df1.loc[df1['CAEC'] == 'Always', 'CAEC'] = 5\n",
    "\n",
    "        # SMOKE\n",
    "\n",
    "df1.loc[df1['SMOKE'] == 'no', 'SMOKE'] = 2\n",
    "df1.loc[df1['SMOKE'] == 'yes', 'SMOKE'] = 3\n",
    "\n",
    "        # SCC\n",
    "\n",
    "df1.loc[df1['SCC'] == 'no', 'SCC'] = 2\n",
    "df1.loc[df1['SCC'] == 'yes', 'SCC'] = 3\n",
    "\n",
    "        # CALC\n",
    "\n",
    "df1.loc[df1['CALC'] == 'no', 'CALC'] = 2\n",
    "df1.loc[df1['CALC'] == 'Sometimes', 'CALC'] = 3\n",
    "df1.loc[df1['CALC'] == 'Frequently', 'CALC'] = 4\n",
    "df1.loc[df1['CALC'] == 'Always', 'CALC'] = 5\n",
    "\n",
    "        # MTRANS\n",
    "\n",
    "df1.loc[df1['MTRANS'] == 'Automobile', 'MTRANS'] = 2\n",
    "df1.loc[df1['MTRANS'] == 'Motorbike', 'MTRANS'] = 3\n",
    "df1.loc[df1['MTRANS'] == 'Bike', 'MTRANS'] = 4\n",
    "df1.loc[df1['MTRANS'] == 'Public_Transportation', 'MTRANS'] = 5\n",
    "df1.loc[df1['MTRANS'] == 'Walking', 'MTRANS'] = 6\n",
    "\n",
    "#########################################################\n",
    "\n",
    "df1 = df1.astype('float64')"
   ],
   "metadata": {
    "id": "KGRt0ZD0FrDj",
    "ExecuteTime": {
     "end_time": "2024-06-12T09:21:07.196991Z",
     "start_time": "2024-06-12T09:21:07.180095Z"
    }
   },
   "execution_count": 78,
   "outputs": []
  },
  {
   "cell_type": "code",
   "source": [
    "# Split data into features (X) and target variable (y)\n",
    "X = df1.drop(columns=['NObeyesdad']) # Features\n",
    "y = df1['NObeyesdad'] # Target variable\n",
    "\n",
    "# Perform one-hot encoding for categorical variables\n",
    "X = pd.get_dummies(X)\n",
    "\n",
    "# Split data into training and testing sets (80% train, 20% test)\n",
    "X_train, X_test, y_train, y_test = train_test_split(X, y, test_size=0.2, random_state=42)"
   ],
   "metadata": {
    "id": "67zKMk9UFzSz",
    "ExecuteTime": {
     "end_time": "2024-06-12T09:21:07.204320Z",
     "start_time": "2024-06-12T09:21:07.198363Z"
    }
   },
   "execution_count": 79,
   "outputs": []
  },
  {
   "cell_type": "markdown",
   "source": [
    "# <a id='7' href=#1> MLP Model </a>"
   ],
   "metadata": {
    "id": "RaL2N9y5FzzS"
   }
  },
  {
   "cell_type": "code",
   "source": [
    "import torch\n",
    "import torch.nn as nn\n",
    "import torch.optim as optim\n",
    "from torch.utils.data import DataLoader, TensorDataset\n",
    "from sklearn.preprocessing import StandardScaler, LabelEncoder\n",
    "from sklearn.metrics import accuracy_score"
   ],
   "metadata": {
    "id": "pwVd0aaCJeKb",
    "ExecuteTime": {
     "end_time": "2024-06-12T09:21:07.207252Z",
     "start_time": "2024-06-12T09:21:07.205071Z"
    }
   },
   "execution_count": 80,
   "outputs": []
  },
  {
   "cell_type": "code",
   "source": [
    "# Standardize features\n",
    "scaler = StandardScaler()\n",
    "X_train_scaled = scaler.fit_transform(X_train)\n",
    "X_test_scaled = scaler.transform(X_test)\n",
    "\n",
    "label_encoder = LabelEncoder()\n",
    "y_train_encoded = label_encoder.fit_transform(y_train)\n",
    "y_test_encoded = label_encoder.transform(y_test)\n"
   ],
   "metadata": {
    "id": "_vHTHYKPJhMU",
    "ExecuteTime": {
     "end_time": "2024-06-12T09:21:07.214952Z",
     "start_time": "2024-06-12T09:21:07.209007Z"
    }
   },
   "execution_count": 81,
   "outputs": []
  },
  {
   "cell_type": "code",
   "source": [
    "# Convert data to PyTorch tensors\n",
    "X_train_tensor = torch.tensor(X_train_scaled, dtype=torch.float32)\n",
    "X_test_tensor = torch.tensor(X_test_scaled, dtype=torch.float32)\n",
    "y_train_tensor = torch.tensor(y_train_encoded, dtype=torch.long)\n",
    "y_test_tensor = torch.tensor(y_test_encoded, dtype=torch.long)"
   ],
   "metadata": {
    "id": "gTIrIVSMNCes",
    "ExecuteTime": {
     "end_time": "2024-06-12T09:21:07.218772Z",
     "start_time": "2024-06-12T09:21:07.215846Z"
    }
   },
   "execution_count": 82,
   "outputs": []
  },
  {
   "cell_type": "code",
   "source": [
    "# Define the neural network architecture\n",
    "class NeuralNetwork(nn.Module):\n",
    "    def __init__(self, input_size, hidden_size, num_classes):\n",
    "        super(NeuralNetwork, self).__init__()\n",
    "        self.fc1 = nn.Linear(input_size, hidden_size)\n",
    "        self.relu = nn.ReLU()\n",
    "        self.dropout1 = nn.Dropout(0.2)\n",
    "        self.fc2 = nn.Linear(hidden_size, hidden_size)\n",
    "        self.dropout2 = nn.Dropout(0.2)\n",
    "        self.fc3 = nn.Linear(hidden_size, num_classes)\n",
    "\n",
    "    def forward(self, x):\n",
    "        out = self.fc1(x)\n",
    "        out = self.relu(out)\n",
    "        out = self.dropout1(out)\n",
    "        out = self.fc2(out)\n",
    "        out = self.relu(out)\n",
    "        out = self.dropout2(out)\n",
    "        out = self.fc3(out)\n",
    "        return out"
   ],
   "metadata": {
    "id": "zXQvxD2HJkjc",
    "ExecuteTime": {
     "end_time": "2024-06-12T09:21:07.224123Z",
     "start_time": "2024-06-12T09:21:07.219892Z"
    }
   },
   "execution_count": 83,
   "outputs": []
  },
  {
   "cell_type": "code",
   "source": [
    "# Define hyperparameters\n",
    "input_size = X_train_tensor.shape[1]\n",
    "hidden_size = 128\n",
    "num_classes = 7\n",
    "learning_rate = 0.001\n",
    "num_epochs = 200\n",
    "batch_size = 42\n"
   ],
   "metadata": {
    "id": "IzPs9YdfJndz",
    "ExecuteTime": {
     "end_time": "2024-06-12T09:21:07.228343Z",
     "start_time": "2024-06-12T09:21:07.225441Z"
    }
   },
   "execution_count": 84,
   "outputs": []
  },
  {
   "cell_type": "code",
   "source": [
    "# Initialize the model, loss function, and optimizer\n",
    "model = NeuralNetwork(input_size, hidden_size, num_classes)\n",
    "criterion = nn.CrossEntropyLoss()\n",
    "optimizer = optim.Adam(model.parameters(), lr=learning_rate)"
   ],
   "metadata": {
    "id": "aOkq-wshNE28",
    "ExecuteTime": {
     "end_time": "2024-06-12T09:21:07.235135Z",
     "start_time": "2024-06-12T09:21:07.229895Z"
    }
   },
   "execution_count": 85,
   "outputs": []
  },
  {
   "cell_type": "code",
   "source": [
    "# Prepare DataLoader\n",
    "train_dataset = TensorDataset(X_train_tensor, y_train_tensor)\n",
    "train_loader = DataLoader(train_dataset, batch_size=batch_size, shuffle=True)"
   ],
   "metadata": {
    "id": "ifsqlqkAJpqb",
    "ExecuteTime": {
     "end_time": "2024-06-12T09:21:07.240893Z",
     "start_time": "2024-06-12T09:21:07.238015Z"
    }
   },
   "execution_count": 86,
   "outputs": []
  },
  {
   "cell_type": "code",
   "source": [
    "# Training loop\n",
    "for epoch in range(num_epochs):\n",
    "    running_loss = 0.0\n",
    "    for i, (inputs, labels) in enumerate(train_loader, 1):\n",
    "        optimizer.zero_grad()\n",
    "        outputs = model(inputs)\n",
    "        loss = criterion(outputs, labels)\n",
    "        loss.backward()\n",
    "        optimizer.step()\n",
    "\n",
    "        running_loss += loss.item()\n",
    "        '''if i % 10 == 0:  # Print every 10 mini-batches\n",
    "            print(f'Epoch [{epoch + 1}/{num_epochs}], Step [{i}/{len(train_loader)}], Loss: {running_loss / i:.4f}')'''\n",
    "\n",
    "    epoch_loss = running_loss / len(train_loader)\n",
    "    print(f'Epoch [{epoch + 1}/{num_epochs}], Loss: {epoch_loss:.4f}')"
   ],
   "metadata": {
    "id": "CW82EgOBJqkz",
    "ExecuteTime": {
     "end_time": "2024-06-12T09:21:13.713017Z",
     "start_time": "2024-06-12T09:21:07.241671Z"
    }
   },
   "execution_count": 87,
   "outputs": [
    {
     "name": "stdout",
     "output_type": "stream",
     "text": [
      "Epoch [1/200], Loss: 1.6626\n",
      "Epoch [2/200], Loss: 1.1075\n",
      "Epoch [3/200], Loss: 0.8368\n",
      "Epoch [4/200], Loss: 0.7088\n",
      "Epoch [5/200], Loss: 0.5876\n",
      "Epoch [6/200], Loss: 0.5224\n",
      "Epoch [7/200], Loss: 0.4487\n",
      "Epoch [8/200], Loss: 0.4012\n",
      "Epoch [9/200], Loss: 0.3549\n",
      "Epoch [10/200], Loss: 0.3348\n",
      "Epoch [11/200], Loss: 0.3131\n",
      "Epoch [12/200], Loss: 0.3029\n",
      "Epoch [13/200], Loss: 0.2564\n",
      "Epoch [14/200], Loss: 0.2497\n",
      "Epoch [15/200], Loss: 0.2453\n",
      "Epoch [16/200], Loss: 0.2474\n",
      "Epoch [17/200], Loss: 0.2282\n",
      "Epoch [18/200], Loss: 0.2081\n",
      "Epoch [19/200], Loss: 0.2000\n",
      "Epoch [20/200], Loss: 0.1731\n",
      "Epoch [21/200], Loss: 0.1799\n",
      "Epoch [22/200], Loss: 0.1620\n",
      "Epoch [23/200], Loss: 0.1612\n",
      "Epoch [24/200], Loss: 0.1743\n",
      "Epoch [25/200], Loss: 0.1447\n",
      "Epoch [26/200], Loss: 0.1394\n",
      "Epoch [27/200], Loss: 0.1277\n",
      "Epoch [28/200], Loss: 0.1331\n",
      "Epoch [29/200], Loss: 0.1428\n",
      "Epoch [30/200], Loss: 0.1225\n",
      "Epoch [31/200], Loss: 0.1146\n",
      "Epoch [32/200], Loss: 0.1226\n",
      "Epoch [33/200], Loss: 0.1235\n",
      "Epoch [34/200], Loss: 0.1216\n",
      "Epoch [35/200], Loss: 0.1087\n",
      "Epoch [36/200], Loss: 0.0975\n",
      "Epoch [37/200], Loss: 0.1003\n",
      "Epoch [38/200], Loss: 0.0825\n",
      "Epoch [39/200], Loss: 0.0895\n",
      "Epoch [40/200], Loss: 0.0922\n",
      "Epoch [41/200], Loss: 0.0866\n",
      "Epoch [42/200], Loss: 0.0830\n",
      "Epoch [43/200], Loss: 0.0878\n",
      "Epoch [44/200], Loss: 0.0750\n",
      "Epoch [45/200], Loss: 0.1003\n",
      "Epoch [46/200], Loss: 0.0778\n",
      "Epoch [47/200], Loss: 0.0765\n",
      "Epoch [48/200], Loss: 0.0713\n",
      "Epoch [49/200], Loss: 0.0717\n",
      "Epoch [50/200], Loss: 0.0745\n",
      "Epoch [51/200], Loss: 0.0691\n",
      "Epoch [52/200], Loss: 0.0790\n",
      "Epoch [53/200], Loss: 0.0637\n",
      "Epoch [54/200], Loss: 0.0585\n",
      "Epoch [55/200], Loss: 0.0666\n",
      "Epoch [56/200], Loss: 0.0593\n",
      "Epoch [57/200], Loss: 0.0615\n",
      "Epoch [58/200], Loss: 0.0570\n",
      "Epoch [59/200], Loss: 0.0641\n",
      "Epoch [60/200], Loss: 0.0672\n",
      "Epoch [61/200], Loss: 0.0513\n",
      "Epoch [62/200], Loss: 0.0604\n",
      "Epoch [63/200], Loss: 0.0512\n",
      "Epoch [64/200], Loss: 0.0448\n",
      "Epoch [65/200], Loss: 0.0516\n",
      "Epoch [66/200], Loss: 0.0537\n",
      "Epoch [67/200], Loss: 0.0348\n",
      "Epoch [68/200], Loss: 0.0692\n",
      "Epoch [69/200], Loss: 0.0637\n",
      "Epoch [70/200], Loss: 0.0469\n",
      "Epoch [71/200], Loss: 0.0479\n",
      "Epoch [72/200], Loss: 0.0448\n",
      "Epoch [73/200], Loss: 0.0429\n",
      "Epoch [74/200], Loss: 0.0572\n",
      "Epoch [75/200], Loss: 0.0440\n",
      "Epoch [76/200], Loss: 0.0532\n",
      "Epoch [77/200], Loss: 0.0397\n",
      "Epoch [78/200], Loss: 0.0405\n",
      "Epoch [79/200], Loss: 0.0417\n",
      "Epoch [80/200], Loss: 0.0433\n",
      "Epoch [81/200], Loss: 0.0458\n",
      "Epoch [82/200], Loss: 0.0550\n",
      "Epoch [83/200], Loss: 0.0434\n",
      "Epoch [84/200], Loss: 0.0406\n",
      "Epoch [85/200], Loss: 0.0397\n",
      "Epoch [86/200], Loss: 0.0401\n",
      "Epoch [87/200], Loss: 0.0325\n",
      "Epoch [88/200], Loss: 0.0304\n",
      "Epoch [89/200], Loss: 0.0315\n",
      "Epoch [90/200], Loss: 0.0370\n",
      "Epoch [91/200], Loss: 0.0380\n",
      "Epoch [92/200], Loss: 0.0301\n",
      "Epoch [93/200], Loss: 0.0252\n",
      "Epoch [94/200], Loss: 0.0403\n",
      "Epoch [95/200], Loss: 0.0340\n",
      "Epoch [96/200], Loss: 0.0370\n",
      "Epoch [97/200], Loss: 0.0268\n",
      "Epoch [98/200], Loss: 0.0285\n",
      "Epoch [99/200], Loss: 0.0256\n",
      "Epoch [100/200], Loss: 0.0303\n",
      "Epoch [101/200], Loss: 0.0355\n",
      "Epoch [102/200], Loss: 0.0269\n",
      "Epoch [103/200], Loss: 0.0229\n",
      "Epoch [104/200], Loss: 0.0356\n",
      "Epoch [105/200], Loss: 0.0241\n",
      "Epoch [106/200], Loss: 0.0305\n",
      "Epoch [107/200], Loss: 0.0198\n",
      "Epoch [108/200], Loss: 0.0243\n",
      "Epoch [109/200], Loss: 0.0157\n",
      "Epoch [110/200], Loss: 0.0278\n",
      "Epoch [111/200], Loss: 0.0312\n",
      "Epoch [112/200], Loss: 0.0372\n",
      "Epoch [113/200], Loss: 0.0343\n",
      "Epoch [114/200], Loss: 0.0234\n",
      "Epoch [115/200], Loss: 0.0280\n",
      "Epoch [116/200], Loss: 0.0164\n",
      "Epoch [117/200], Loss: 0.0236\n",
      "Epoch [118/200], Loss: 0.0243\n",
      "Epoch [119/200], Loss: 0.0288\n",
      "Epoch [120/200], Loss: 0.0222\n",
      "Epoch [121/200], Loss: 0.0286\n",
      "Epoch [122/200], Loss: 0.0311\n",
      "Epoch [123/200], Loss: 0.0253\n",
      "Epoch [124/200], Loss: 0.0211\n",
      "Epoch [125/200], Loss: 0.0200\n",
      "Epoch [126/200], Loss: 0.0261\n",
      "Epoch [127/200], Loss: 0.0178\n",
      "Epoch [128/200], Loss: 0.0192\n",
      "Epoch [129/200], Loss: 0.0242\n",
      "Epoch [130/200], Loss: 0.0151\n",
      "Epoch [131/200], Loss: 0.0260\n",
      "Epoch [132/200], Loss: 0.0276\n",
      "Epoch [133/200], Loss: 0.0287\n",
      "Epoch [134/200], Loss: 0.0256\n",
      "Epoch [135/200], Loss: 0.0329\n",
      "Epoch [136/200], Loss: 0.0210\n",
      "Epoch [137/200], Loss: 0.0176\n",
      "Epoch [138/200], Loss: 0.0165\n",
      "Epoch [139/200], Loss: 0.0163\n",
      "Epoch [140/200], Loss: 0.0164\n",
      "Epoch [141/200], Loss: 0.0161\n",
      "Epoch [142/200], Loss: 0.0161\n",
      "Epoch [143/200], Loss: 0.0224\n",
      "Epoch [144/200], Loss: 0.0181\n",
      "Epoch [145/200], Loss: 0.0184\n",
      "Epoch [146/200], Loss: 0.0143\n",
      "Epoch [147/200], Loss: 0.0161\n",
      "Epoch [148/200], Loss: 0.0193\n",
      "Epoch [149/200], Loss: 0.0161\n",
      "Epoch [150/200], Loss: 0.0185\n",
      "Epoch [151/200], Loss: 0.0209\n",
      "Epoch [152/200], Loss: 0.0204\n",
      "Epoch [153/200], Loss: 0.0195\n",
      "Epoch [154/200], Loss: 0.0242\n",
      "Epoch [155/200], Loss: 0.0240\n",
      "Epoch [156/200], Loss: 0.0225\n",
      "Epoch [157/200], Loss: 0.0213\n",
      "Epoch [158/200], Loss: 0.0185\n",
      "Epoch [159/200], Loss: 0.0153\n",
      "Epoch [160/200], Loss: 0.0171\n",
      "Epoch [161/200], Loss: 0.0134\n",
      "Epoch [162/200], Loss: 0.0309\n",
      "Epoch [163/200], Loss: 0.0186\n",
      "Epoch [164/200], Loss: 0.0160\n",
      "Epoch [165/200], Loss: 0.0184\n",
      "Epoch [166/200], Loss: 0.0162\n",
      "Epoch [167/200], Loss: 0.0131\n",
      "Epoch [168/200], Loss: 0.0154\n",
      "Epoch [169/200], Loss: 0.0127\n",
      "Epoch [170/200], Loss: 0.0131\n",
      "Epoch [171/200], Loss: 0.0175\n",
      "Epoch [172/200], Loss: 0.0188\n",
      "Epoch [173/200], Loss: 0.0198\n",
      "Epoch [174/200], Loss: 0.0133\n",
      "Epoch [175/200], Loss: 0.0106\n",
      "Epoch [176/200], Loss: 0.0114\n",
      "Epoch [177/200], Loss: 0.0146\n",
      "Epoch [178/200], Loss: 0.0232\n",
      "Epoch [179/200], Loss: 0.0135\n",
      "Epoch [180/200], Loss: 0.0102\n",
      "Epoch [181/200], Loss: 0.0150\n",
      "Epoch [182/200], Loss: 0.0159\n",
      "Epoch [183/200], Loss: 0.0178\n",
      "Epoch [184/200], Loss: 0.0185\n",
      "Epoch [185/200], Loss: 0.0118\n",
      "Epoch [186/200], Loss: 0.0103\n",
      "Epoch [187/200], Loss: 0.0133\n",
      "Epoch [188/200], Loss: 0.0132\n",
      "Epoch [189/200], Loss: 0.0125\n",
      "Epoch [190/200], Loss: 0.0118\n",
      "Epoch [191/200], Loss: 0.0128\n",
      "Epoch [192/200], Loss: 0.0159\n",
      "Epoch [193/200], Loss: 0.0129\n",
      "Epoch [194/200], Loss: 0.0139\n",
      "Epoch [195/200], Loss: 0.0172\n",
      "Epoch [196/200], Loss: 0.0224\n",
      "Epoch [197/200], Loss: 0.0090\n",
      "Epoch [198/200], Loss: 0.0131\n",
      "Epoch [199/200], Loss: 0.0079\n",
      "Epoch [200/200], Loss: 0.0204\n"
     ]
    }
   ]
  },
  {
   "cell_type": "markdown",
   "source": [
    "# <a id='8' href=#1> Evaluation </a>"
   ],
   "metadata": {
    "id": "p6QVtTeZM-oc"
   }
  },
  {
   "cell_type": "code",
   "source": [
    "# Evaluation\n",
    "with torch.no_grad():\n",
    "    outputs = model(X_test_tensor)\n",
    "    _, predicted = torch.max(outputs, 1)\n",
    "    test_accuracy = accuracy_score(y_test_tensor.numpy(), predicted.numpy())\n",
    "\n",
    "print(f'Test accuracy: {test_accuracy}')"
   ],
   "metadata": {
    "id": "4kJKdp56Jw2D",
    "ExecuteTime": {
     "end_time": "2024-06-12T09:21:13.723154Z",
     "start_time": "2024-06-12T09:21:13.715619Z"
    }
   },
   "execution_count": 88,
   "outputs": [
    {
     "name": "stdout",
     "output_type": "stream",
     "text": [
      "Test accuracy: 0.9408983451536643\n"
     ]
    }
   ]
  }
 ]
}
